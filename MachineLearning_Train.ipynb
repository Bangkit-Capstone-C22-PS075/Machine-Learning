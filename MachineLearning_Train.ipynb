{
  "cells": [
    {
      "cell_type": "markdown",
      "source": [
        "# Prepare the Dataset\n",
        "\n",
        "Before training the machine learning, we have to load the dataset. The dataset here is in ZIP and we have to unzip it first."
      ],
      "metadata": {
        "id": "xjiYB3wuAF0B"
      }
    },
    {
      "cell_type": "code",
      "execution_count": null,
      "metadata": {
        "id": "zlMQE5Ycu_Mf"
      },
      "outputs": [],
      "source": [
        "import zipfile\n",
        "\n",
        "dataset_path = # path of the dataset \n",
        "zip_ref = zipfile.ZipFile(dataset_path, 'r')\n",
        "zip_ref.extractall(# the location of the unzip file)\n",
        "zip_ref.close()"
      ]
    },
    {
      "cell_type": "markdown",
      "source": [
        "# Import the Python Library\n",
        "Here we load all the library needed to training the machine learning model."
      ],
      "metadata": {
        "id": "yEzsOAyiBGLw"
      }
    },
    {
      "cell_type": "code",
      "execution_count": null,
      "metadata": {
        "id": "uxpHYgDZLLlN"
      },
      "outputs": [],
      "source": [
        "from tensorflow.keras import Sequential, regularizers\n",
        "from tensorflow.keras.layers import Dense, Dropout, BatchNormalization\n",
        "from tensorflow.keras.optimizers import Adam\n",
        "from tensorflow.keras.preprocessing.image import ImageDataGenerator, img_to_array, load_img\n",
        "from tensorflow.keras.backend import clear_session\n",
        "from tensorflow.keras.callbacks import TensorBoard\n",
        "from tensorflow.keras.applications import MobileNetV2\n",
        "from tensorflow.keras.models import load_model\n",
        "import tensorflow as tf\n",
        "import matplotlib.pyplot as plt\n",
        "import numpy as np\n",
        "import os"
      ]
    },
    {
      "cell_type": "markdown",
      "source": [
        "# Prepare the Data to be Loaded to the Machine Learning.\n",
        "\n",
        "\n",
        "1.   Preprocess the images (normalizing, shear, rotate, etc.)\n",
        "2.   Load the data to the dataset generator\n",
        "3.\t Checking all the label in the dataset and the number of image for training and validation\n"
      ],
      "metadata": {
        "id": "b40kpHgxB1CF"
      }
    },
    {
      "cell_type": "code",
      "execution_count": null,
      "metadata": {
        "colab": {
          "base_uri": "https://localhost:8080/"
        },
        "id": "78sYEyF4J_OO",
        "outputId": "8094f55c-63e7-4ee3-ca9e-07f1fc469cd2"
      },
      "outputs": [
        {
          "output_type": "stream",
          "name": "stdout",
          "text": [
            "Found 6000 images belonging to 12 classes.\n",
            "Found 1200 images belonging to 12 classes.\n",
            "{'0': 0, '1': 1, '10': 2, '11': 3, '2': 4, '3': 5, '4': 6, '5': 7, '6': 8, '7': 9, '8': 10, '9': 11}\n"
          ]
        }
      ],
      "source": [
        "base_dir = # path of the dataset folder\n",
        "train_dir = os.path.join(base_dir,'train')\n",
        "test_dir = os.path.join(base_dir,'test')\n",
        "\n",
        "# data preprocessing \n",
        "train_datagen = ImageDataGenerator(\n",
        "    rescale=1./255,\n",
        "    shear_range=0.2,\n",
        "    rotation_range=90,\n",
        "    fill_mode='reflect',\n",
        "    zoom_range=0.2,\n",
        "    brightness_range=[0.5, 1.5],\n",
        "    width_shift_range=0.2,\n",
        "    height_shift_range=0.2,\n",
        "    horizontal_flip=True,\n",
        "    vertical_flip=True\n",
        ")\n",
        "\n",
        "validation_datagen = ImageDataGenerator(rescale=1./255)\n",
        "\n",
        "train_generator = train_datagen.flow_from_directory(\n",
        "    directory=train_dir,\n",
        "    target_size=(224,224),\n",
        "    class_mode='categorical',\n",
        "    batch_size= 30,\n",
        "    color_mode='rgb'\n",
        ")\n",
        "\n",
        "validation_generator = validation_datagen.flow_from_directory(\n",
        "    directory=test_dir,\n",
        "    target_size=(224,224),\n",
        "    class_mode='categorical',\n",
        "    batch_size=30,\n",
        "    color_mode='rgb'\n",
        ")\n",
        "cloth_dict = train_generator.class_indices\n",
        "print(cloth_dict)"
      ]
    },
    {
      "cell_type": "markdown",
      "source": [
        "# Transfer Learning with MobileNetV2\n",
        "Since our dataset is quite small (500 for training and 100 for validation), to increase the effectiveness and accuracy of the model, we will utilizing transfer learning."
      ],
      "metadata": {
        "id": "UDngr7kACpuK"
      }
    },
    {
      "cell_type": "code",
      "execution_count": null,
      "metadata": {
        "colab": {
          "base_uri": "https://localhost:8080/"
        },
        "id": "XkaNCfEqMPQn",
        "outputId": "d9693f62-60fe-42e5-8a5e-5a3b8c10e418"
      },
      "outputs": [
        {
          "output_type": "stream",
          "name": "stdout",
          "text": [
            "Downloading data from https://storage.googleapis.com/tensorflow/keras-applications/mobilenet_v2/mobilenet_v2_weights_tf_dim_ordering_tf_kernels_1.0_224_no_top.h5\n",
            "9412608/9406464 [==============================] - 0s 0us/step\n",
            "9420800/9406464 [==============================] - 0s 0us/step\n"
          ]
        }
      ],
      "source": [
        "base_model = MobileNetV2(\n",
        "    include_top=False,\n",
        "    weights='imagenet',\n",
        "    input_shape=(224, 224, 3),\n",
        "    alpha=1.0,\n",
        "    pooling='avg' # Add GlobalAvgPool2D() layer as its final layer\n",
        ")\n",
        "\n",
        "base_model.trainable = False"
      ]
    },
    {
      "cell_type": "markdown",
      "metadata": {
        "id": "BUxxuMV31185"
      },
      "source": [
        "# Training the Machine Learning Model\n",
        "\n",
        "1.   Create the scheduler function the control the learning rate for each epoch\n",
        "2.   Define the learning rate, epoch, training steps and validation steps\n",
        "3.\t Create the ML model with the transfer learning as the base layer.\n",
        "4.   See the summary and run the model\n"
      ]
    },
    {
      "cell_type": "code",
      "execution_count": 1,
      "metadata": {
        "id": "PfzjplTVMQHt",
        "colab": {
          "base_uri": "https://localhost:8080/",
          "height": 201
        },
        "outputId": "7a7876a0-8d50-4750-c8d9-e32c27bc1dc2"
      },
      "outputs": [
        {
          "output_type": "error",
          "ename": "NameError",
          "evalue": "ignored",
          "traceback": [
            "\u001b[0;31m---------------------------------------------------------------------------\u001b[0m",
            "\u001b[0;31mNameError\u001b[0m                                 Traceback (most recent call last)",
            "\u001b[0;32m<ipython-input-1-00e74a9dde26>\u001b[0m in \u001b[0;36m<module>\u001b[0;34m()\u001b[0m\n\u001b[1;32m      5\u001b[0m     \u001b[0;32mreturn\u001b[0m \u001b[0mlr\u001b[0m \u001b[0;34m*\u001b[0m \u001b[0mtf\u001b[0m\u001b[0;34m.\u001b[0m\u001b[0mmath\u001b[0m\u001b[0;34m.\u001b[0m\u001b[0mexp\u001b[0m\u001b[0;34m(\u001b[0m\u001b[0;34m-\u001b[0m\u001b[0;36m0.1\u001b[0m\u001b[0;34m)\u001b[0m\u001b[0;34m\u001b[0m\u001b[0;34m\u001b[0m\u001b[0m\n\u001b[1;32m      6\u001b[0m \u001b[0;34m\u001b[0m\u001b[0m\n\u001b[0;32m----> 7\u001b[0;31m \u001b[0mlr_callback\u001b[0m \u001b[0;34m=\u001b[0m \u001b[0mtf\u001b[0m\u001b[0;34m.\u001b[0m\u001b[0mkeras\u001b[0m\u001b[0;34m.\u001b[0m\u001b[0mcallbacks\u001b[0m\u001b[0;34m.\u001b[0m\u001b[0mLearningRateScheduler\u001b[0m\u001b[0;34m(\u001b[0m\u001b[0mscheduler\u001b[0m\u001b[0;34m)\u001b[0m\u001b[0;34m\u001b[0m\u001b[0;34m\u001b[0m\u001b[0m\n\u001b[0m",
            "\u001b[0;31mNameError\u001b[0m: name 'tf' is not defined"
          ]
        }
      ],
      "source": [
        "def scheduler(epoch, lr):\n",
        "  if epoch <= 15:\n",
        "    return lr\n",
        "  else:\n",
        "    return lr * tf.math.exp(-0.1)\n",
        "\n",
        "lr_callback = tf.keras.callbacks.LearningRateScheduler(scheduler)"
      ]
    },
    {
      "cell_type": "code",
      "execution_count": null,
      "metadata": {
        "id": "5YpD2OwUMTiH"
      },
      "outputs": [],
      "source": [
        "EPOCHS = 70\n",
        "LEARNING_RATE = 1e-4\n",
        "TRAIN_STEP = train_generator.n//train_generator.batch_size\n",
        "VAL_STEP = validation_generator.n//validation_generator.batch_size"
      ]
    },
    {
      "cell_type": "code",
      "execution_count": null,
      "metadata": {
        "colab": {
          "base_uri": "https://localhost:8080/"
        },
        "id": "xeByvU0cMYpL",
        "outputId": "2e6d2c08-fd6f-49e9-da13-e444014d6709"
      },
      "outputs": [
        {
          "output_type": "stream",
          "name": "stdout",
          "text": [
            "Model: \"sequential\"\n",
            "_________________________________________________________________\n",
            " Layer (type)                Output Shape              Param #   \n",
            "=================================================================\n",
            " mobilenetv2_1.00_224 (Funct  (None, 1280)             2257984   \n",
            " ional)                                                          \n",
            "                                                                 \n",
            " dense (Dense)               (None, 256)               327936    \n",
            "                                                                 \n",
            " dense_1 (Dense)             (None, 256)               65792     \n",
            "                                                                 \n",
            " dense_2 (Dense)             (None, 12)                3084      \n",
            "                                                                 \n",
            "=================================================================\n",
            "Total params: 2,654,796\n",
            "Trainable params: 396,812\n",
            "Non-trainable params: 2,257,984\n",
            "_________________________________________________________________\n",
            "Epoch 1/70\n",
            "200/200 [==============================] - 96s 416ms/step - loss: 2.1349 - accuracy: 0.3567 - val_loss: 1.6247 - val_accuracy: 0.5225 - lr: 1.0000e-04\n",
            "Epoch 2/70\n",
            "200/200 [==============================] - 79s 397ms/step - loss: 1.5980 - accuracy: 0.5252 - val_loss: 1.3243 - val_accuracy: 0.6067 - lr: 1.0000e-04\n",
            "Epoch 3/70\n",
            "200/200 [==============================] - 80s 399ms/step - loss: 1.4372 - accuracy: 0.5700 - val_loss: 1.1804 - val_accuracy: 0.6650 - lr: 1.0000e-04\n",
            "Epoch 4/70\n",
            "200/200 [==============================] - 79s 397ms/step - loss: 1.3672 - accuracy: 0.5970 - val_loss: 1.1251 - val_accuracy: 0.6825 - lr: 1.0000e-04\n",
            "Epoch 5/70\n",
            "200/200 [==============================] - 81s 404ms/step - loss: 1.3308 - accuracy: 0.6103 - val_loss: 1.1185 - val_accuracy: 0.6617 - lr: 1.0000e-04\n",
            "Epoch 6/70\n",
            "200/200 [==============================] - 80s 400ms/step - loss: 1.3067 - accuracy: 0.6095 - val_loss: 1.0639 - val_accuracy: 0.6950 - lr: 1.0000e-04\n",
            "Epoch 7/70\n",
            "200/200 [==============================] - 87s 433ms/step - loss: 1.2518 - accuracy: 0.6280 - val_loss: 1.0091 - val_accuracy: 0.7325 - lr: 1.0000e-04\n",
            "Epoch 8/70\n",
            "200/200 [==============================] - 85s 424ms/step - loss: 1.2407 - accuracy: 0.6283 - val_loss: 0.9902 - val_accuracy: 0.7308 - lr: 1.0000e-04\n",
            "Epoch 9/70\n",
            "200/200 [==============================] - 81s 403ms/step - loss: 1.2004 - accuracy: 0.6492 - val_loss: 0.9836 - val_accuracy: 0.7233 - lr: 1.0000e-04\n",
            "Epoch 10/70\n",
            "200/200 [==============================] - 85s 423ms/step - loss: 1.1789 - accuracy: 0.6570 - val_loss: 0.9675 - val_accuracy: 0.7233 - lr: 1.0000e-04\n",
            "Epoch 11/70\n",
            "200/200 [==============================] - 80s 402ms/step - loss: 1.1736 - accuracy: 0.6598 - val_loss: 0.9751 - val_accuracy: 0.7200 - lr: 1.0000e-04\n",
            "Epoch 12/70\n",
            "200/200 [==============================] - 79s 394ms/step - loss: 1.1317 - accuracy: 0.6673 - val_loss: 0.9158 - val_accuracy: 0.7483 - lr: 1.0000e-04\n",
            "Epoch 13/70\n",
            "200/200 [==============================] - 80s 402ms/step - loss: 1.1431 - accuracy: 0.6635 - val_loss: 0.9209 - val_accuracy: 0.7308 - lr: 1.0000e-04\n",
            "Epoch 14/70\n",
            "200/200 [==============================] - 79s 394ms/step - loss: 1.1168 - accuracy: 0.6750 - val_loss: 0.8989 - val_accuracy: 0.7550 - lr: 1.0000e-04\n",
            "Epoch 15/70\n",
            "200/200 [==============================] - 79s 394ms/step - loss: 1.0951 - accuracy: 0.6825 - val_loss: 0.8950 - val_accuracy: 0.7508 - lr: 1.0000e-04\n",
            "Epoch 16/70\n",
            "200/200 [==============================] - 79s 397ms/step - loss: 1.1195 - accuracy: 0.6737 - val_loss: 0.9216 - val_accuracy: 0.7367 - lr: 1.0000e-04\n",
            "Epoch 17/70\n",
            "200/200 [==============================] - 80s 401ms/step - loss: 1.0762 - accuracy: 0.6922 - val_loss: 0.8786 - val_accuracy: 0.7575 - lr: 9.0484e-05\n",
            "Epoch 18/70\n",
            "200/200 [==============================] - 79s 396ms/step - loss: 1.0710 - accuracy: 0.6875 - val_loss: 0.8733 - val_accuracy: 0.7500 - lr: 8.1873e-05\n",
            "Epoch 19/70\n",
            "200/200 [==============================] - 80s 399ms/step - loss: 1.0723 - accuracy: 0.6853 - val_loss: 0.8494 - val_accuracy: 0.7717 - lr: 7.4082e-05\n",
            "Epoch 20/70\n",
            "200/200 [==============================] - 79s 395ms/step - loss: 1.0384 - accuracy: 0.7003 - val_loss: 0.8505 - val_accuracy: 0.7575 - lr: 6.7032e-05\n",
            "Epoch 21/70\n",
            "200/200 [==============================] - 80s 401ms/step - loss: 1.0385 - accuracy: 0.7005 - val_loss: 0.8670 - val_accuracy: 0.7642 - lr: 6.0653e-05\n",
            "Epoch 22/70\n",
            "200/200 [==============================] - 79s 396ms/step - loss: 1.0309 - accuracy: 0.6998 - val_loss: 0.8195 - val_accuracy: 0.7792 - lr: 5.4881e-05\n",
            "Epoch 23/70\n",
            "200/200 [==============================] - 79s 393ms/step - loss: 1.0279 - accuracy: 0.6990 - val_loss: 0.8271 - val_accuracy: 0.7675 - lr: 4.9659e-05\n",
            "Epoch 24/70\n",
            "200/200 [==============================] - 79s 395ms/step - loss: 1.0311 - accuracy: 0.7050 - val_loss: 0.8359 - val_accuracy: 0.7658 - lr: 4.4933e-05\n",
            "Epoch 25/70\n",
            "200/200 [==============================] - 81s 405ms/step - loss: 1.0052 - accuracy: 0.7117 - val_loss: 0.8096 - val_accuracy: 0.7767 - lr: 4.0657e-05\n",
            "Epoch 26/70\n",
            "200/200 [==============================] - 79s 396ms/step - loss: 1.0008 - accuracy: 0.7138 - val_loss: 0.8209 - val_accuracy: 0.7750 - lr: 3.6788e-05\n",
            "Epoch 27/70\n",
            "200/200 [==============================] - 79s 395ms/step - loss: 1.0042 - accuracy: 0.7128 - val_loss: 0.8275 - val_accuracy: 0.7742 - lr: 3.3287e-05\n",
            "Epoch 28/70\n",
            "200/200 [==============================] - 79s 395ms/step - loss: 0.9790 - accuracy: 0.7202 - val_loss: 0.8260 - val_accuracy: 0.7733 - lr: 3.0119e-05\n",
            "Epoch 29/70\n",
            "200/200 [==============================] - 80s 401ms/step - loss: 0.9892 - accuracy: 0.7135 - val_loss: 0.8152 - val_accuracy: 0.7750 - lr: 2.7253e-05\n",
            "Epoch 30/70\n",
            "200/200 [==============================] - 79s 395ms/step - loss: 0.9839 - accuracy: 0.7208 - val_loss: 0.8101 - val_accuracy: 0.7792 - lr: 2.4660e-05\n",
            "Epoch 31/70\n",
            "200/200 [==============================] - 79s 395ms/step - loss: 0.9781 - accuracy: 0.7162 - val_loss: 0.8130 - val_accuracy: 0.7717 - lr: 2.2313e-05\n",
            "Epoch 32/70\n",
            "200/200 [==============================] - 79s 395ms/step - loss: 0.9785 - accuracy: 0.7195 - val_loss: 0.7992 - val_accuracy: 0.7833 - lr: 2.0190e-05\n",
            "Epoch 33/70\n",
            "200/200 [==============================] - 81s 406ms/step - loss: 0.9765 - accuracy: 0.7233 - val_loss: 0.8026 - val_accuracy: 0.7792 - lr: 1.8268e-05\n",
            "Epoch 34/70\n",
            "200/200 [==============================] - 79s 394ms/step - loss: 0.9658 - accuracy: 0.7232 - val_loss: 0.8017 - val_accuracy: 0.7825 - lr: 1.6530e-05\n",
            "Epoch 35/70\n",
            "200/200 [==============================] - 79s 394ms/step - loss: 0.9673 - accuracy: 0.7220 - val_loss: 0.8004 - val_accuracy: 0.7850 - lr: 1.4957e-05\n",
            "Epoch 36/70\n",
            "200/200 [==============================] - 79s 394ms/step - loss: 0.9546 - accuracy: 0.7230 - val_loss: 0.7989 - val_accuracy: 0.7858 - lr: 1.3534e-05\n",
            "Epoch 37/70\n",
            "200/200 [==============================] - 80s 399ms/step - loss: 0.9668 - accuracy: 0.7243 - val_loss: 0.7979 - val_accuracy: 0.7817 - lr: 1.2246e-05\n",
            "Epoch 38/70\n",
            "200/200 [==============================] - 80s 402ms/step - loss: 0.9606 - accuracy: 0.7260 - val_loss: 0.7933 - val_accuracy: 0.7858 - lr: 1.1080e-05\n",
            "Epoch 39/70\n",
            "200/200 [==============================] - 79s 394ms/step - loss: 0.9603 - accuracy: 0.7210 - val_loss: 0.7953 - val_accuracy: 0.7800 - lr: 1.0026e-05\n",
            "Epoch 40/70\n",
            "200/200 [==============================] - 79s 395ms/step - loss: 0.9373 - accuracy: 0.7357 - val_loss: 0.7930 - val_accuracy: 0.7825 - lr: 9.0718e-06\n",
            "Epoch 41/70\n",
            "200/200 [==============================] - 80s 400ms/step - loss: 0.9620 - accuracy: 0.7207 - val_loss: 0.7946 - val_accuracy: 0.7808 - lr: 8.2085e-06\n",
            "Epoch 42/70\n",
            "200/200 [==============================] - 80s 401ms/step - loss: 0.9527 - accuracy: 0.7247 - val_loss: 0.7966 - val_accuracy: 0.7783 - lr: 7.4273e-06\n",
            "Epoch 43/70\n",
            "200/200 [==============================] - 79s 393ms/step - loss: 0.9557 - accuracy: 0.7260 - val_loss: 0.7962 - val_accuracy: 0.7792 - lr: 6.7205e-06\n",
            "Epoch 44/70\n",
            "200/200 [==============================] - 79s 397ms/step - loss: 0.9652 - accuracy: 0.7253 - val_loss: 0.7930 - val_accuracy: 0.7833 - lr: 6.0810e-06\n",
            "Epoch 45/70\n",
            "200/200 [==============================] - 79s 395ms/step - loss: 0.9365 - accuracy: 0.7322 - val_loss: 0.7920 - val_accuracy: 0.7825 - lr: 5.5023e-06\n",
            "Epoch 46/70\n",
            "200/200 [==============================] - 80s 400ms/step - loss: 0.9504 - accuracy: 0.7273 - val_loss: 0.7919 - val_accuracy: 0.7833 - lr: 4.9787e-06\n",
            "Epoch 47/70\n",
            "200/200 [==============================] - 79s 394ms/step - loss: 0.9540 - accuracy: 0.7260 - val_loss: 0.7941 - val_accuracy: 0.7833 - lr: 4.5049e-06\n",
            "Epoch 48/70\n",
            "200/200 [==============================] - 79s 394ms/step - loss: 0.9526 - accuracy: 0.7238 - val_loss: 0.7929 - val_accuracy: 0.7833 - lr: 4.0762e-06\n",
            "Epoch 49/70\n",
            "200/200 [==============================] - 79s 397ms/step - loss: 0.9638 - accuracy: 0.7265 - val_loss: 0.7965 - val_accuracy: 0.7817 - lr: 3.6883e-06\n",
            "Epoch 50/70\n",
            "200/200 [==============================] - 81s 403ms/step - loss: 0.9487 - accuracy: 0.7313 - val_loss: 0.7930 - val_accuracy: 0.7800 - lr: 3.3373e-06\n",
            "Epoch 51/70\n",
            "200/200 [==============================] - 79s 394ms/step - loss: 0.9408 - accuracy: 0.7323 - val_loss: 0.7924 - val_accuracy: 0.7800 - lr: 3.0197e-06\n",
            "Epoch 52/70\n",
            "200/200 [==============================] - 80s 398ms/step - loss: 0.9471 - accuracy: 0.7328 - val_loss: 0.7916 - val_accuracy: 0.7800 - lr: 2.7324e-06\n",
            "Epoch 53/70\n",
            "200/200 [==============================] - 79s 394ms/step - loss: 0.9502 - accuracy: 0.7353 - val_loss: 0.7930 - val_accuracy: 0.7792 - lr: 2.4723e-06\n",
            "Epoch 54/70\n",
            "200/200 [==============================] - 80s 402ms/step - loss: 0.9598 - accuracy: 0.7230 - val_loss: 0.7922 - val_accuracy: 0.7808 - lr: 2.2371e-06\n",
            "Epoch 55/70\n",
            "200/200 [==============================] - 79s 397ms/step - loss: 0.9458 - accuracy: 0.7263 - val_loss: 0.7915 - val_accuracy: 0.7825 - lr: 2.0242e-06\n",
            "Epoch 56/70\n",
            "200/200 [==============================] - 79s 397ms/step - loss: 0.9638 - accuracy: 0.7323 - val_loss: 0.7905 - val_accuracy: 0.7808 - lr: 1.8316e-06\n",
            "Epoch 57/70\n",
            "200/200 [==============================] - 79s 395ms/step - loss: 0.9449 - accuracy: 0.7347 - val_loss: 0.7897 - val_accuracy: 0.7800 - lr: 1.6573e-06\n",
            "Epoch 58/70\n",
            "200/200 [==============================] - 80s 402ms/step - loss: 0.9547 - accuracy: 0.7240 - val_loss: 0.7895 - val_accuracy: 0.7783 - lr: 1.4996e-06\n",
            "Epoch 59/70\n",
            "200/200 [==============================] - 79s 394ms/step - loss: 0.9566 - accuracy: 0.7178 - val_loss: 0.7887 - val_accuracy: 0.7825 - lr: 1.3569e-06\n",
            "Epoch 60/70\n",
            "200/200 [==============================] - 79s 396ms/step - loss: 0.9416 - accuracy: 0.7285 - val_loss: 0.7906 - val_accuracy: 0.7808 - lr: 1.2277e-06\n",
            "Epoch 61/70\n",
            "200/200 [==============================] - 79s 395ms/step - loss: 0.9397 - accuracy: 0.7303 - val_loss: 0.7901 - val_accuracy: 0.7833 - lr: 1.1109e-06\n",
            "Epoch 62/70\n",
            "200/200 [==============================] - 81s 404ms/step - loss: 0.9540 - accuracy: 0.7283 - val_loss: 0.7892 - val_accuracy: 0.7817 - lr: 1.0052e-06\n",
            "Epoch 63/70\n",
            "200/200 [==============================] - 79s 395ms/step - loss: 0.9641 - accuracy: 0.7208 - val_loss: 0.7891 - val_accuracy: 0.7808 - lr: 9.0953e-07\n",
            "Epoch 64/70\n",
            "200/200 [==============================] - 79s 395ms/step - loss: 0.9491 - accuracy: 0.7273 - val_loss: 0.7887 - val_accuracy: 0.7833 - lr: 8.2297e-07\n",
            "Epoch 65/70\n",
            "200/200 [==============================] - 79s 395ms/step - loss: 0.9388 - accuracy: 0.7317 - val_loss: 0.7889 - val_accuracy: 0.7817 - lr: 7.4466e-07\n",
            "Epoch 66/70\n",
            "200/200 [==============================] - 79s 395ms/step - loss: 0.9485 - accuracy: 0.7307 - val_loss: 0.7886 - val_accuracy: 0.7817 - lr: 6.7379e-07\n",
            "Epoch 67/70\n",
            "200/200 [==============================] - 81s 403ms/step - loss: 0.9520 - accuracy: 0.7257 - val_loss: 0.7890 - val_accuracy: 0.7817 - lr: 6.0967e-07\n",
            "Epoch 68/70\n",
            "200/200 [==============================] - 80s 398ms/step - loss: 0.9364 - accuracy: 0.7307 - val_loss: 0.7894 - val_accuracy: 0.7817 - lr: 5.5165e-07\n",
            "Epoch 69/70\n",
            "200/200 [==============================] - 79s 395ms/step - loss: 0.9394 - accuracy: 0.7287 - val_loss: 0.7896 - val_accuracy: 0.7825 - lr: 4.9916e-07\n",
            "Epoch 70/70\n",
            "200/200 [==============================] - 79s 395ms/step - loss: 0.9463 - accuracy: 0.7243 - val_loss: 0.7894 - val_accuracy: 0.7817 - lr: 4.5166e-07\n"
          ]
        }
      ],
      "source": [
        "clear_session()\n",
        "\n",
        "model = Sequential([\n",
        "    base_model,\n",
        "    Dense(256, activation='relu',kernel_regularizer=regularizers.l1_l2(l1=1e-5, l2=1e-4)),\n",
        "    Dense(256, activation='relu'),\n",
        "    Dense(12, activation='softmax')\n",
        "])\n",
        "\n",
        "model.compile(\n",
        "    optimizer=Adam(learning_rate=LEARNING_RATE),\n",
        "    loss='categorical_crossentropy',\n",
        "    metrics=['accuracy'],\n",
        ")\n",
        "\n",
        "model.summary()\n",
        "\n",
        "history = model.fit(\n",
        "    train_generator,\n",
        "    validation_data=validation_generator,\n",
        "    steps_per_epoch=TRAIN_STEP,\n",
        "    validation_steps=VAL_STEP,\n",
        "    shuffle=True,\n",
        "    epochs=EPOCHS,\n",
        "    callbacks=[lr_callback]\n",
        ")"
      ]
    },
    {
      "cell_type": "markdown",
      "source": [
        "# Analyzing the Training Result\n",
        "After the training, here we will see the result in form of graph."
      ],
      "metadata": {
        "id": "hJUVEE7jFYxD"
      }
    },
    {
      "cell_type": "code",
      "execution_count": null,
      "metadata": {
        "colab": {
          "base_uri": "https://localhost:8080/",
          "height": 404
        },
        "id": "exKArgj9MhYf",
        "outputId": "b19e8a5d-b5ae-4dd7-a808-5ede050a35f3"
      },
      "outputs": [
        {
          "output_type": "display_data",
          "data": {
            "text/plain": [
              "<Figure size 1152x432 with 2 Axes>"
            ],
            "image/png": "[encoded data removed]"
          },
          "metadata": {
            "needs_background": "light"
          }
        }
      ],
      "source": [
        "train_acc = history.history['accuracy']\n",
        "train_loss = history.history['loss']\n",
        "val_acc = history.history['val_accuracy']\n",
        "val_loss = history.history['val_loss']\n",
        "\n",
        "plt.figure(figsize=(16,6))\n",
        "plt.subplot(1, 2, 1)\n",
        "plt.title('Accuracy Curve')\n",
        "plt.plot(train_acc, label='Training')\n",
        "plt.plot(val_acc, label='Validation')\n",
        "plt.legend()\n",
        "plt.xlabel('Epochs')\n",
        "plt.ylabel('Accuracy')\n",
        "\n",
        "plt.subplot(1, 2, 2)\n",
        "plt.title('Loss Curve')\n",
        "plt.plot(train_loss, label='Training')\n",
        "plt.plot(val_loss, label='Validation')\n",
        "plt.legend()\n",
        "plt.xlabel('Epochs')\n",
        "plt.ylabel('Loss')\n",
        "\n",
        "plt.show()"
      ]
    },
    {
      "cell_type": "markdown",
      "source": [
        "# Check the Accuracy for Each Class\n",
        "Here we will check the accuracy for each class, so we can imporove the performance of the machine learning."
      ],
      "metadata": {
        "id": "QAjhiUV5F_7A"
      }
    },
    {
      "cell_type": "code",
      "execution_count": null,
      "metadata": {
        "colab": {
          "base_uri": "https://localhost:8080/"
        },
        "id": "mEw87C3FMknt",
        "outputId": "6cf21076-ecf7-4274-ca61-d264dfb3ce64"
      },
      "outputs": [
        {
          "output_type": "stream",
          "name": "stdout",
          "text": [
            "0 Predictions --> 75/100 correct\n",
            "1 Predictions --> 74/100 correct\n",
            "10 Predictions --> 84/100 correct\n",
            "11 Predictions --> 71/100 correct\n",
            "2 Predictions --> 71/100 correct\n",
            "3 Predictions --> 95/100 correct\n",
            "4 Predictions --> 76/100 correct\n",
            "5 Predictions --> 69/100 correct\n",
            "6 Predictions --> 77/100 correct\n",
            "7 Predictions --> 67/100 correct\n",
            "8 Predictions --> 90/100 correct\n",
            "9 Predictions --> 89/100 correct\n"
          ]
        }
      ],
      "source": [
        "test_path=# path of the test folder\n",
        "\n",
        "for cloth in cloth_dict.keys():\n",
        "    images_list = os.listdir(os.path.join(test_dir, cloth))    \n",
        "    # plt.figure(figsize=(16, 20))\n",
        "\n",
        "    correct_count = 0\n",
        "\n",
        "    for idx, image in enumerate(images_list):\n",
        "        img_path = f'/test_path/{cloth}/{image}'\n",
        "        img = load_img(img_path, target_size=(224, 224))\n",
        "\n",
        "        img_array = img_to_array(img) / 255.0\n",
        "        img_array = tf.expand_dims(img_array, 0)\n",
        "\n",
        "        cloth_list = list(cloth_dict.keys())\n",
        "        prediction = model(img_array)\n",
        "        pred_idx = np.argmax(prediction)\n",
        "        pred_cloth = cloth_list[pred_idx]\n",
        "        pred_confidence = prediction[0][pred_idx] * 100\n",
        "\n",
        "        if pred_cloth == cloth:\n",
        "            correct_count += 1\n",
        "    \n",
        "    print(f'{cloth} Predictions --> {correct_count}/100 correct')"
      ]
    },
    {
      "cell_type": "markdown",
      "source": [
        "# Saved the model to TensorFlow Lite\n",
        "To deploy the ML model in android you have to convert it to Tensorflow Lite. Here you can also save the model to deploy it with Tensorflow Serving"
      ],
      "metadata": {
        "id": "IxGLUpeyGYC0"
      }
    },
    {
      "cell_type": "code",
      "execution_count": null,
      "metadata": {
        "colab": {
          "base_uri": "https://localhost:8080/"
        },
        "id": "E6wsEi__gYxw",
        "outputId": "484aa317-5b23-4b15-ccce-298e5f47d075"
      },
      "outputs": [
        {
          "output_type": "stream",
          "name": "stderr",
          "text": [
            "WARNING:absl:Function `_wrapped_model` contains input name(s) mobilenetv2_1.00_224_input with unsupported characters which will be renamed to mobilenetv2_1_00_224_input in the SavedModel.\n"
          ]
        },
        {
          "output_type": "stream",
          "name": "stdout",
          "text": [
            "INFO:tensorflow:Assets written to: D-Jahit/1/assets\n"
          ]
        },
        {
          "output_type": "stream",
          "name": "stderr",
          "text": [
            "INFO:tensorflow:Assets written to: D-Jahit/1/assets\n",
            "WARNING:absl:Buffer deduplication procedure will be skipped when flatbuffer library is not properly loaded\n"
          ]
        },
        {
          "output_type": "execute_result",
          "data": {
            "text/plain": [
              "10456596"
            ]
          },
          "metadata": {},
          "execution_count": 11
        }
      ],
      "source": [
        "import os\n",
        "import pathlib\n",
        "\n",
        "# Saved the model\n",
        "model_version = # the version, default is 1\n",
        "model_save = # name of the model\n",
        "model_path = os.path.join(model_save, model_version)\n",
        "tf.saved_model.save(model, model_path)\n",
        "# Stop here if you want to deploy it using Tensorflow Serving\n",
        "\n",
        "# Convert the model to TF lite\n",
        "converter = tf.lite.TFLiteConverter.from_saved_model(model_path) # path to the SavedModel directory\n",
        "tflite_model = converter.convert()\n",
        "tflite_model_file = pathlib.Path('model.tflite')\n",
        "tflite_model_file.write_bytes(tflite_model)"
      ]
    },
    {
      "cell_type": "markdown",
      "source": [
        "# ZIP the Result\n",
        "After saving the model, you can zip the folder and download it"
      ],
      "metadata": {
        "id": "_BwqaK49HRWE"
      }
    },
    {
      "cell_type": "code",
      "execution_count": null,
      "metadata": {
        "colab": {
          "base_uri": "https://localhost:8080/",
          "height": 36
        },
        "id": "OVGd3eAQimht",
        "outputId": "9c76bf30-7899-4129-89fa-fada61fd46bc"
      },
      "outputs": [
        {
          "output_type": "execute_result",
          "data": {
            "text/plain": [
              "'/content/drive/MyDrive/Capstone_Project.zip'"
            ],
            "application/vnd.google.colaboratory.intrinsic+json": {
              "type": "string"
            }
          },
          "metadata": {},
          "execution_count": 12
        }
      ],
      "source": [
        "scr_path= # path to the saved model folder\n",
        "dest_path= # path to save the zip file\n",
        "import shutil\n",
        "shutil.make_archive(dest_path, 'zip', scr_path )"
      ]
    }
  ],
  "metadata": {
    "accelerator": "GPU",
    "colab": {
      "collapsed_sections": [
        "jZRl-b3D1toW"
      ],
      "name": "Copy of Capstone_ML.ipynb",
      "provenance": []
    },
    "kernelspec": {
      "display_name": "Python 3",
      "name": "python3"
    },
    "language_info": {
      "name": "python"
    }
  },
  "nbformat": 4,
  "nbformat_minor": 0
}